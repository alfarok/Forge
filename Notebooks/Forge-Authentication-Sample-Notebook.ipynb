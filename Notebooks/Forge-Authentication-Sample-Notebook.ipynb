{
 "cells": [
  {
   "cell_type": "markdown",
   "metadata": {},
   "source": [
    "# Forge Authentication Sample Notebook"
   ]
  },
  {
   "cell_type": "code",
   "execution_count": null,
   "metadata": {},
   "outputs": [],
   "source": [
    "# Python standard library dependencies\n",
    "import json\n",
    "import urllib.parse as urlparse\n",
    "from urllib.parse import parse_qs\n",
    "\n",
    "# External dependencies (pip install)\n",
    "import requests"
   ]
  },
  {
   "cell_type": "markdown",
   "metadata": {},
   "source": [
    "## Forge Application Details"
   ]
  },
  {
   "cell_type": "code",
   "execution_count": null,
   "metadata": {},
   "outputs": [],
   "source": [
    "# Forge app credentials (optionally load from a local json config file)\n",
    "client_id = \"XXXXXXXXXXXXXXXXXXXXXXXXXXXXXXXX\"\n",
    "client_secret = \"XXXXXXXXXXXXXXXX\"\n",
    "callback_url = \"http://localhost:8888/\" # Update on your app for testing in a Jupyter notebook"
   ]
  },
  {
   "cell_type": "markdown",
   "metadata": {},
   "source": [
    "## 2-Legged Token Sample"
   ]
  },
  {
   "cell_type": "code",
   "execution_count": null,
   "metadata": {},
   "outputs": [],
   "source": [
    "# Request an access token\n",
    "url = \"https://developer.api.autodesk.com/authentication/v1/authenticate\"\n",
    "\n",
    "data = {\"client_id\": client_id,\n",
    "        \"client_secret\": client_secret,\n",
    "        \"grant_type\": \"client_credentials\"}\n",
    "\n",
    "headers = {\"Content-type\": \"application/x-www-form-urlencoded\",\n",
    "           \"Accept\": \"application/json*\"}\n",
    "\n",
    "request = requests.post(url, data=data, headers=headers)\n",
    "\n",
    "print(request.status_code, request.reason)"
   ]
  },
  {
   "cell_type": "code",
   "execution_count": null,
   "metadata": {},
   "outputs": [],
   "source": [
    "# Handle various status code states for Forge\n",
    "code = request.status_code\n",
    "\n",
    "if(code == 200):\n",
    "    print(\"Successful request; access token returned.\" + \"\\n\")\n",
    "    \n",
    "    token_object = json.loads(request.text)\n",
    "    \n",
    "    for key in token_object:\n",
    "        print(key + \": \" + str(token_object[key]) + \"\\n\")\n",
    "    \n",
    "elif(code == 400):\n",
    "    print(\"One or more parameters are invalid. Examine the response payload body for details.\")\n",
    "elif(code == 401):\n",
    "    print(\"The client_id and client_secret combination is not valid.\")\n",
    "elif(code == 403):\n",
    "    print(\"The client_id is not authorized to access this endpoint.\")\n",
    "elif(code == 415):\n",
    "    print(\"The Content-Type header is missing or specifies a value other than application/x-www-form-urlencoded.\")\n",
    "elif(code == 429):\n",
    "    print(\"Rate limit exceeded; wait some time before retrying.\")\n",
    "elif(code == 500):\n",
    "    print(\"Generic internal server error.\")\n",
    "else:\n",
    "    print(\"Unhandle \" + str(code) + \" error.\")"
   ]
  },
  {
   "cell_type": "markdown",
   "metadata": {},
   "source": [
    "## 3-Legged Token with Authorization Code Grant\n",
    "### (Sign in with Autodesk ID)"
   ]
  },
  {
   "cell_type": "code",
   "execution_count": null,
   "metadata": {},
   "outputs": [],
   "source": [
    "# Request user to login\n",
    "url = \"https://developer.api.autodesk.com/authentication/v1/authorize\"\n",
    "\n",
    "data = {\"client_id\": client_id, \n",
    "        \"response_type\": \"code\", \n",
    "        \"redirect_uri\": callback_url, \n",
    "        \"scope\": \"data:read\"}\n",
    "\n",
    "req = requests.Request(\"GET\", url, params=data)\n",
    "prep = req.prepare()\n",
    "r = requests.get(prep.url)\n",
    "print(prep.url)\n",
    "\n",
    "print(r.status_code)"
   ]
  },
  {
   "cell_type": "markdown",
   "metadata": {},
   "source": [
    "#### Click the link above and copy the full URL from the new window/tab to the 'response_url' variable below (after signing in - if not already logged in to Forge).  This will simulate the callback which contains the appended authorization code required to obtain a 3-legged token."
   ]
  },
  {
   "cell_type": "code",
   "execution_count": null,
   "metadata": {},
   "outputs": [],
   "source": [
    "# Display a dialog box reminding the user to update the response_url\n",
    "from IPython.display import display, Javascript\n",
    "display(Javascript(\"\"\"\n",
    "require(\n",
    "    [\"base/js/dialog\"], \n",
    "    function(dialog) {\n",
    "        dialog.modal({\n",
    "            title: 'Reminder',\n",
    "            body: 'Did you make sure to copy/paste the url from the new browser tab launched by click the link in the previous cell into the cell below?',\n",
    "            buttons: {\n",
    "                'Yes': {}\n",
    "            }\n",
    "        });\n",
    "    }\n",
    ");\n",
    "\"\"\"))"
   ]
  },
  {
   "cell_type": "code",
   "execution_count": null,
   "metadata": {},
   "outputs": [],
   "source": [
    "# After logging in the user will recieve a url in the following format with a \"code\" appended\n",
    "# Paste the full url below, such as:\n",
    "response_url = \"http://localhost:8888/tree?code=4_nN1nd-v8HBgjho_NrcZkQ4TrekTSG50Ps5m-P3\""
   ]
  },
  {
   "cell_type": "code",
   "execution_count": null,
   "metadata": {},
   "outputs": [],
   "source": [
    "# Retrieve the code from the url\n",
    "parsed = urlparse.urlparse(response_url)\n",
    "auth_code = parse_qs(parsed.query)[\"code\"][0]\n",
    "\n",
    "print(auth_code)"
   ]
  },
  {
   "cell_type": "code",
   "execution_count": null,
   "metadata": {},
   "outputs": [],
   "source": [
    "# Request an access token\n",
    "url = \"https://developer.api.autodesk.com/authentication/v1/gettoken\"\n",
    "\n",
    "data = {\"client_id\": client_id,\n",
    "        \"client_secret\": client_secret, \n",
    "        \"grant_type\": \"authorization_code\", \n",
    "        \"code\": auth_code, \n",
    "        \"redirect_uri\": callback_url}\n",
    "\n",
    "headers = {\"Content-type\": \"application/x-www-form-urlencoded\", \n",
    "           \"Accept\": \"application/json*\"}\n",
    "\n",
    "request = requests.post(url, data=data, headers=headers)\n",
    "\n",
    "print(request.status_code, request.reason)"
   ]
  },
  {
   "cell_type": "code",
   "execution_count": null,
   "metadata": {},
   "outputs": [],
   "source": [
    "code = request.status_code\n",
    "\n",
    "if(code == 200):\n",
    "    print(\"Successful request; access token returned.\" + \"\\n\")\n",
    "    \n",
    "    token_object = json.loads(request.text)\n",
    "    \n",
    "    for key in token_object:\n",
    "        print(key + \": \" + str(token_object[key]) + \"\\n\") \n",
    "\n",
    "elif(code == 400):\n",
    "    print(\"One or more parameters are invalid. Examine the response payload body for details.\")\n",
    "elif(code == 401):\n",
    "    print(\"The client_id and client_secret combination is not valid.\")\n",
    "elif(code == 403):\n",
    "    print(\"The client_id is not authorized to access this endpoint.\")\n",
    "elif(code == 415):\n",
    "    print(\"The Content-Type header is missing or specifies a value other than application/x-www-form-urlencoded.\")\n",
    "elif(code == 429):\n",
    "    print(\"Rate limit exceeded; wait some time before retrying.\")\n",
    "elif(code == 500):\n",
    "    print(\"Generic internal server error.\")\n",
    "else:\n",
    "    print(\"Unhandle \" + str(code) + \" error.\")"
   ]
  },
  {
   "cell_type": "markdown",
   "metadata": {},
   "source": [
    "## Get User Credentials"
   ]
  },
  {
   "cell_type": "code",
   "execution_count": null,
   "metadata": {},
   "outputs": [],
   "source": [
    "url = \"https://developer.api.autodesk.com/userprofile/v1/users/@me\"\n",
    "headers = {\"Authorization\": token_object[\"token_type\"]+ \" \" + token_object[\"access_token\"]}\n",
    "\n",
    "request = requests.get(url, headers=headers)\n",
    "\n",
    "print(request.status_code, request.reason)"
   ]
  },
  {
   "cell_type": "code",
   "execution_count": null,
   "metadata": {},
   "outputs": [],
   "source": [
    "if(request.status_code == 200):\n",
    "    print(\"Successful request; user data returned.\" + \"\\n\")\n",
    "    \n",
    "    user_object = json.loads(request.text)\n",
    "    \n",
    "    for key in user_object:\n",
    "        print(key + \": \" + str(user_object[key]) + \"\\n\")\n",
    "\n",
    "elif(code == 401):\n",
    "    print(\"The access token is invalid.\")\n",
    "elif(code == 429):\n",
    "    print(\"Rate limit exceeded; wait some time before retrying.\")\n",
    "elif(code == 500):\n",
    "    print(\"Generic internal server error.\")\n",
    "else:\n",
    "    print(\"Unhandle \" + str(code) + \" error.\")"
   ]
  },
  {
   "cell_type": "code",
   "execution_count": null,
   "metadata": {},
   "outputs": [],
   "source": []
  }
 ],
 "metadata": {
  "kernelspec": {
   "display_name": "Python 3",
   "language": "python",
   "name": "python3"
  },
  "language_info": {
   "codemirror_mode": {
    "name": "ipython",
    "version": 3
   },
   "file_extension": ".py",
   "mimetype": "text/x-python",
   "name": "python",
   "nbconvert_exporter": "python",
   "pygments_lexer": "ipython3",
   "version": "3.8.5"
  }
 },
 "nbformat": 4,
 "nbformat_minor": 4
}
